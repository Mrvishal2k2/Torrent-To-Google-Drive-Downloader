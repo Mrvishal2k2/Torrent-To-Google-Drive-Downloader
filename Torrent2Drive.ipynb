{
  "nbformat": 4,
  "nbformat_minor": 0,
  "metadata": {
    "colab": {
      "name": "Torrent2Drive.ipynb",
      "provenance": []
    },
    "kernelspec": {
      "name": "python3",
      "display_name": "Python 3"
    }
  },
  "cells": [
    {
      "cell_type": "markdown",
      "metadata": {
        "id": "GTXTgHQYNNGi",
        "colab_type": "text"
      },
      "source": [
        "# 1- Install Drive"
      ]
    },
    {
      "cell_type": "code",
      "metadata": {
        "id": "aDbw0aZAN0RL",
        "colab_type": "code",
        "colab": {
          "base_uri": "https://localhost:8080/",
          "height": 121
        },
        "outputId": "dfa01a68-53a0-400f-d660-9e6b2c2f08d6"
      },
      "source": [
        "from google.colab import drive\n",
        "drive.mount('/content/drive')"
      ],
      "execution_count": 1,
      "outputs": [
        {
          "output_type": "stream",
          "text": [
            "Go to this URL in a browser: https://accounts.google.com/o/oauth2/auth?client_id=947318989803-6bn6qk8qdgf4n4g3pfee6491hc0brc4i.apps.googleusercontent.com&redirect_uri=urn%3aietf%3awg%3aoauth%3a2.0%3aoob&response_type=code&scope=email%20https%3a%2f%2fwww.googleapis.com%2fauth%2fdocs.test%20https%3a%2f%2fwww.googleapis.com%2fauth%2fdrive%20https%3a%2f%2fwww.googleapis.com%2fauth%2fdrive.photos.readonly%20https%3a%2f%2fwww.googleapis.com%2fauth%2fpeopleapi.readonly\n",
            "\n",
            "Enter your authorization code:\n",
            "··········\n",
            "Mounted at /content/drive\n"
          ],
          "name": "stdout"
        }
      ]
    },
    {
      "cell_type": "markdown",
      "metadata": {
        "id": "u9BGARG5N3oU",
        "colab_type": "text"
      },
      "source": [
        "# 2- Install Dependency Library"
      ]
    },
    {
      "cell_type": "code",
      "metadata": {
        "id": "oXOZlT5tM-jr",
        "colab_type": "code",
        "colab": {
          "base_uri": "https://localhost:8080/",
          "height": 1000
        },
        "outputId": "861fd50b-136a-4fbb-d14e-fab9e8ab778a"
      },
      "source": [
        "!sudo apt install uget aria2"
      ],
      "execution_count": 2,
      "outputs": [
        {
          "output_type": "stream",
          "text": [
            "Reading package lists... Done\n",
            "Building dependency tree       \n",
            "Reading state information... Done\n",
            "The following additional packages will be installed:\n",
            "  libc-ares2 libcap2-bin libgstreamer1.0-0 libnotify4 libpam-cap\n",
            "  notification-daemon\n",
            "Suggested packages:\n",
            "  gstreamer1.0-tools\n",
            "The following NEW packages will be installed:\n",
            "  aria2 libc-ares2 libcap2-bin libgstreamer1.0-0 libnotify4 libpam-cap\n",
            "  notification-daemon uget\n",
            "0 upgraded, 8 newly installed, 0 to remove and 32 not upgraded.\n",
            "Need to get 2,588 kB of archives.\n",
            "After this operation, 10.7 MB of additional disk space will be used.\n",
            "Get:1 http://archive.ubuntu.com/ubuntu bionic/main amd64 libcap2-bin amd64 1:2.25-1.2 [20.6 kB]\n",
            "Get:2 http://archive.ubuntu.com/ubuntu bionic/main amd64 libpam-cap amd64 1:2.25-1.2 [7,268 B]\n",
            "Get:3 http://archive.ubuntu.com/ubuntu bionic/main amd64 libc-ares2 amd64 1.14.0-1 [37.1 kB]\n",
            "Get:4 http://archive.ubuntu.com/ubuntu bionic/universe amd64 aria2 amd64 1.33.1-1 [1,236 kB]\n",
            "Get:5 http://archive.ubuntu.com/ubuntu bionic-updates/main amd64 libgstreamer1.0-0 amd64 1.14.5-0ubuntu1~18.04.1 [865 kB]\n",
            "Get:6 http://archive.ubuntu.com/ubuntu bionic/main amd64 libnotify4 amd64 0.7.7-3 [17.3 kB]\n",
            "Get:7 http://archive.ubuntu.com/ubuntu bionic/main amd64 notification-daemon amd64 3.20.0-3 [36.9 kB]\n",
            "Get:8 http://archive.ubuntu.com/ubuntu bionic/universe amd64 uget amd64 2.2.0-1build1 [368 kB]\n",
            "Fetched 2,588 kB in 1s (2,778 kB/s)\n",
            "debconf: unable to initialize frontend: Dialog\n",
            "debconf: (No usable dialog-like program is installed, so the dialog based frontend cannot be used. at /usr/share/perl5/Debconf/FrontEnd/Dialog.pm line 76, <> line 8.)\n",
            "debconf: falling back to frontend: Readline\n",
            "debconf: unable to initialize frontend: Readline\n",
            "debconf: (This frontend requires a controlling tty.)\n",
            "debconf: falling back to frontend: Teletype\n",
            "dpkg-preconfigure: unable to re-open stdin: \n",
            "Selecting previously unselected package libcap2-bin.\n",
            "(Reading database ... 144467 files and directories currently installed.)\n",
            "Preparing to unpack .../0-libcap2-bin_1%3a2.25-1.2_amd64.deb ...\n",
            "Unpacking libcap2-bin (1:2.25-1.2) ...\n",
            "Selecting previously unselected package libpam-cap:amd64.\n",
            "Preparing to unpack .../1-libpam-cap_1%3a2.25-1.2_amd64.deb ...\n",
            "Unpacking libpam-cap:amd64 (1:2.25-1.2) ...\n",
            "Selecting previously unselected package libc-ares2:amd64.\n",
            "Preparing to unpack .../2-libc-ares2_1.14.0-1_amd64.deb ...\n",
            "Unpacking libc-ares2:amd64 (1.14.0-1) ...\n",
            "Selecting previously unselected package aria2.\n",
            "Preparing to unpack .../3-aria2_1.33.1-1_amd64.deb ...\n",
            "Unpacking aria2 (1.33.1-1) ...\n",
            "Selecting previously unselected package libgstreamer1.0-0:amd64.\n",
            "Preparing to unpack .../4-libgstreamer1.0-0_1.14.5-0ubuntu1~18.04.1_amd64.deb ...\n",
            "Unpacking libgstreamer1.0-0:amd64 (1.14.5-0ubuntu1~18.04.1) ...\n",
            "Selecting previously unselected package libnotify4:amd64.\n",
            "Preparing to unpack .../5-libnotify4_0.7.7-3_amd64.deb ...\n",
            "Unpacking libnotify4:amd64 (0.7.7-3) ...\n",
            "Selecting previously unselected package notification-daemon.\n",
            "Preparing to unpack .../6-notification-daemon_3.20.0-3_amd64.deb ...\n",
            "Unpacking notification-daemon (3.20.0-3) ...\n",
            "Selecting previously unselected package uget.\n",
            "Preparing to unpack .../7-uget_2.2.0-1build1_amd64.deb ...\n",
            "Unpacking uget (2.2.0-1build1) ...\n",
            "Setting up libnotify4:amd64 (0.7.7-3) ...\n",
            "Setting up libpam-cap:amd64 (1:2.25-1.2) ...\n",
            "debconf: unable to initialize frontend: Dialog\n",
            "debconf: (No usable dialog-like program is installed, so the dialog based frontend cannot be used. at /usr/share/perl5/Debconf/FrontEnd/Dialog.pm line 76.)\n",
            "debconf: falling back to frontend: Readline\n",
            "Setting up libcap2-bin (1:2.25-1.2) ...\n",
            "Setting up libc-ares2:amd64 (1.14.0-1) ...\n",
            "Setting up notification-daemon (3.20.0-3) ...\n",
            "Setting up libgstreamer1.0-0:amd64 (1.14.5-0ubuntu1~18.04.1) ...\n",
            "Setcap worked! gst-ptp-helper is not suid!\n",
            "Setting up aria2 (1.33.1-1) ...\n",
            "Setting up uget (2.2.0-1build1) ...\n",
            "Processing triggers for libc-bin (2.27-3ubuntu1) ...\n",
            "/sbin/ldconfig.real: /usr/local/lib/python3.6/dist-packages/ideep4py/lib/libmkldnn.so.0 is not a symbolic link\n",
            "\n",
            "Processing triggers for man-db (2.8.3-2ubuntu0.1) ...\n",
            "Processing triggers for hicolor-icon-theme (0.17-2) ...\n",
            "Processing triggers for mime-support (3.60ubuntu1) ...\n"
          ],
          "name": "stdout"
        }
      ]
    },
    {
      "cell_type": "markdown",
      "metadata": {
        "id": "4ShhrnvTR2kP",
        "colab_type": "text"
      },
      "source": [
        "**aria2c Help command**"
      ]
    },
    {
      "cell_type": "code",
      "metadata": {
        "id": "KmmZjUpYPXoH",
        "colab_type": "code",
        "colab": {
          "base_uri": "https://localhost:8080/",
          "height": 1000
        },
        "outputId": "4362e60d-59cb-435e-f5a7-9d55589169a8"
      },
      "source": [
        "!aria2c -h"
      ],
      "execution_count": 6,
      "outputs": [
        {
          "output_type": "stream",
          "text": [
            "Usage: aria2c [OPTIONS] [URI | MAGNET | TORRENT_FILE | METALINK_FILE]...\n",
            "Printing options tagged with '#basic'.\n",
            "See 'aria2c -h#help' to know all available tags.\n",
            "Options:\n",
            " -v, --version                Print the version number and exit.\n",
            "\n",
            "                              Tags: #basic\n",
            "\n",
            " -h, --help[=TAG|KEYWORD]     Print usage and exit.\n",
            "                              The help messages are classified with tags. A tag\n",
            "                              starts with \"#\". For example, type \"--help=#http\"\n",
            "                              to get the usage for the options tagged with\n",
            "                              \"#http\". If non-tag word is given, print the usage\n",
            "                              for the options whose name includes that word.\n",
            "\n",
            "                              Possible Values: #basic, #advanced, #http, #https, #ftp, #metalink, #bittorrent, #cookie, #hook, #file, #rpc, #checksum, #experimental, #deprecated, #help, #all\n",
            "                              Default: #basic\n",
            "                              Tags: #basic, #help\n",
            "\n",
            " -l, --log=LOG                The file name of the log file. If '-' is\n",
            "                              specified, log is written to stdout.\n",
            "\n",
            "                              Possible Values: /path/to/file, -\n",
            "                              Tags: #basic\n",
            "\n",
            " -d, --dir=DIR                The directory to store the downloaded file.\n",
            "\n",
            "                              Possible Values: /path/to/directory\n",
            "                              Default: /content\n",
            "                              Tags: #basic, #file\n",
            "\n",
            " -o, --out=FILE               The file name of the downloaded file. It is\n",
            "                              always relative to the directory given in -d\n",
            "                              option. When the -Z option is used, this option\n",
            "                              will be ignored.\n",
            "\n",
            "                              Possible Values: /path/to/file\n",
            "                              Tags: #basic, #http, #ftp, #file\n",
            "\n",
            " -s, --split=N                Download a file using N connections. If more\n",
            "                              than N URIs are given, first N URIs are used and\n",
            "                              remaining URLs are used for backup. If less than\n",
            "                              N URIs are given, those URLs are used more than\n",
            "                              once so that N connections total are made\n",
            "                              simultaneously. The number of connections to the\n",
            "                              same host is restricted by the \n",
            "                              --max-connection-per-server option. See also the\n",
            "                              --min-split-size option.\n",
            "\n",
            "                              Possible Values: 1-*\n",
            "                              Default: 5\n",
            "                              Tags: #basic, #http, #ftp\n",
            "\n",
            " --file-allocation=METHOD     Specify file allocation method.\n",
            "                              'none' doesn't pre-allocate file space. 'prealloc'\n",
            "                              pre-allocates file space before download begins.\n",
            "                              This may take some time depending on the size of\n",
            "                              the file.\n",
            "                              If you are using newer file systems such as ext4\n",
            "                              (with extents support), btrfs, xfs or NTFS\n",
            "                              (MinGW build only), 'falloc' is your best\n",
            "                              choice. It allocates large(few GiB) files\n",
            "                              almost instantly. Don't use 'falloc' with legacy\n",
            "                              file systems such as ext3 and FAT32 because it\n",
            "                              takes almost same time as 'prealloc' and it\n",
            "                              blocks aria2 entirely until allocation finishes.\n",
            "                              'falloc' may not be available if your system\n",
            "                              doesn't have posix_fallocate() function.\n",
            "                              'trunc' uses ftruncate() system call or\n",
            "                              platform-specific counterpart to truncate a file\n",
            "                              to a specified length.\n",
            "\n",
            "                              Possible Values: none, prealloc, trunc, falloc\n",
            "                              Default: prealloc\n",
            "                              Tags: #basic, #file\n",
            "\n",
            " -V, --check-integrity[=true|false] Check file integrity by validating piece\n",
            "                              hashes or a hash of entire file. This option has\n",
            "                              effect only in BitTorrent, Metalink downloads\n",
            "                              with checksums or HTTP(S)/FTP downloads with\n",
            "                              --checksum option. If piece hashes are provided,\n",
            "                              this option can detect damaged portions of a file\n",
            "                              and re-download them. If a hash of entire file is\n",
            "                              provided, hash check is only done when file has\n",
            "                              been already download. This is determined by file\n",
            "                              length. If hash check fails, file is\n",
            "                              re-downloaded from scratch. If both piece hashes\n",
            "                              and a hash of entire file are provided, only\n",
            "                              piece hashes are used.\n",
            "\n",
            "                              Possible Values: true, false\n",
            "                              Default: false\n",
            "                              Tags: #basic, #metalink, #bittorrent, #file, #checksum\n",
            "\n",
            " -c, --continue[=true|false]  Continue downloading a partially downloaded\n",
            "                              file. Use this option to resume a download\n",
            "                              started by a web browser or another program\n",
            "                              which downloads files sequentially from the\n",
            "                              beginning. Currently this option is only\n",
            "                              applicable to http(s)/ftp downloads.\n",
            "\n",
            "                              Possible Values: true, false\n",
            "                              Default: false\n",
            "                              Tags: #basic, #http, #ftp\n",
            "\n",
            " -i, --input-file=FILE        Downloads URIs found in FILE. You can specify\n",
            "                              multiple URIs for a single entity: separate\n",
            "                              URIs on a single line using the TAB character.\n",
            "                              Reads input from stdin when '-' is specified.\n",
            "                              Additionally, options can be specified after each\n",
            "                              line of URI. This optional line must start with\n",
            "                              one or more white spaces and have one option per\n",
            "                              single line. See INPUT FILE section of man page\n",
            "                              for details. See also --deferred-input option.\n",
            "\n",
            "                              Possible Values: /path/to/file, -\n",
            "                              Tags: #basic\n",
            "\n",
            " -j, --max-concurrent-downloads=N Set maximum number of parallel downloads for\n",
            "                              every static (HTTP/FTP) URL, torrent and metalink.\n",
            "                              See also --split and --optimize-concurrent-downloads options.\n",
            "\n",
            "                              Possible Values: 1-*\n",
            "                              Default: 5\n",
            "                              Tags: #basic\n",
            "\n",
            " -Z, --force-sequential[=true|false] Fetch URIs in the command-line sequentially\n",
            "                              and download each URI in a separate session, like\n",
            "                              the usual command-line download utilities.\n",
            "\n",
            "                              Possible Values: true, false\n",
            "                              Default: false\n",
            "                              Tags: #basic\n",
            "\n",
            " -x, --max-connection-per-server=NUM The maximum number of connections to one\n",
            "                              server for each download.\n",
            "\n",
            "                              Possible Values: 1-16\n",
            "                              Default: 1\n",
            "                              Tags: #basic, #http, #ftp\n",
            "\n",
            " -k, --min-split-size=SIZE    aria2 does not split less than 2*SIZE byte range.\n",
            "                              For example, let's consider downloading 20MiB\n",
            "                              file. If SIZE is 10M, aria2 can split file into 2\n",
            "                              range [0-10MiB) and [10MiB-20MiB) and download it\n",
            "                              using 2 sources(if --split >= 2, of course).\n",
            "                              If SIZE is 15M, since 2*15M > 20MiB, aria2 does\n",
            "                              not split file and download it using 1 source.\n",
            "                              You can append K or M(1K = 1024, 1M = 1024K).\n",
            "\n",
            "                              Possible Values: 1048576-1073741824\n",
            "                              Default: 20M\n",
            "                              Tags: #basic, #http, #ftp\n",
            "\n",
            " --ftp-user=USER              Set FTP user. This affects all URLs.\n",
            "\n",
            "                              Tags: #basic, #ftp\n",
            "\n",
            " --ftp-passwd=PASSWD          Set FTP password. This affects all URLs.\n",
            "\n",
            "                              Tags: #basic, #ftp\n",
            "\n",
            " --http-user=USER             Set HTTP user. This affects all URLs.\n",
            "\n",
            "                              Tags: #basic, #http\n",
            "\n",
            " --http-passwd=PASSWD         Set HTTP password. This affects all URLs.\n",
            "\n",
            "                              Tags: #basic, #http\n",
            "\n",
            " --load-cookies=FILE          Load Cookies from FILE using the Firefox3 format\n",
            "                              and Mozilla/Firefox(1.x/2.x)/Netscape format.\n",
            "\n",
            "                              Possible Values: /path/to/file\n",
            "                              Tags: #basic, #http, #cookie\n",
            "\n",
            " -S, --show-files[=true|false] Print file listing of .torrent, .meta4 and\n",
            "                              .metalink file and exit. More detailed\n",
            "                              information will be listed in case of torrent\n",
            "                              file.\n",
            "\n",
            "                              Possible Values: true, false\n",
            "                              Default: false\n",
            "                              Tags: #basic, #metalink, #bittorrent\n",
            "\n",
            " --max-overall-upload-limit=SPEED Set max overall upload speed in bytes/sec.\n",
            "                              0 means unrestricted.\n",
            "                              You can append K or M(1K = 1024, 1M = 1024K).\n",
            "                              To limit the upload speed per torrent, use\n",
            "                              --max-upload-limit option.\n",
            "\n",
            "                              Possible Values: 0-*\n",
            "                              Default: 0\n",
            "                              Tags: #basic, #bittorrent\n",
            "\n",
            " -u, --max-upload-limit=SPEED Set max upload speed per each torrent in\n",
            "                              bytes/sec. 0 means unrestricted.\n",
            "                              You can append K or M(1K = 1024, 1M = 1024K).\n",
            "                              To limit the overall upload speed, use\n",
            "                              --max-overall-upload-limit option.\n",
            "\n",
            "                              Possible Values: 0-*\n",
            "                              Default: 0\n",
            "                              Tags: #basic, #bittorrent\n",
            "\n",
            " -T, --torrent-file=TORRENT_FILE  The path to the .torrent file.\n",
            "\n",
            "                              Possible Values: /path/to/file\n",
            "                              Tags: #basic, #bittorrent\n",
            "\n",
            " --listen-port=PORT...        Set TCP port number for BitTorrent downloads.\n",
            "                              Multiple ports can be specified by using ',',\n",
            "                              for example: \"6881,6885\". You can also use '-'\n",
            "                              to specify a range: \"6881-6999\". ',' and '-' can\n",
            "                              be used together.\n",
            "\n",
            "                              Possible Values: 1024-65535\n",
            "                              Default: 6881-6999\n",
            "                              Tags: #basic, #bittorrent\n",
            "\n",
            " --enable-dht[=true|false]    Enable IPv4 DHT functionality. It also enables\n",
            "                              UDP tracker support. If a private flag is set\n",
            "                              in a torrent, aria2 doesn't use DHT for that\n",
            "                              download even if ``true`` is given.\n",
            "\n",
            "                              Possible Values: true, false\n",
            "                              Default: true\n",
            "                              Tags: #basic, #bittorrent\n",
            "\n",
            " --dht-listen-port=PORT...    Set UDP listening port used by DHT(IPv4, IPv6)\n",
            "                              and UDP tracker. Multiple ports can be specified\n",
            "                              by using ',', for example: \"6881,6885\". You can\n",
            "                              also use '-' to specify a range: \"6881-6999\".\n",
            "                              ',' and '-' can be used together.\n",
            "\n",
            "                              Possible Values: 1024-65535\n",
            "                              Default: 6881-6999\n",
            "                              Tags: #basic, #bittorrent\n",
            "\n",
            " --enable-dht6[=true|false]   Enable IPv6 DHT functionality.\n",
            "                              Use --dht-listen-port option to specify port\n",
            "                              number to listen on. See also --dht-listen-addr6\n",
            "                              option.\n",
            "\n",
            "                              Possible Values: true, false\n",
            "                              Default: false\n",
            "                              Tags: #basic, #bittorrent\n",
            "\n",
            " --dht-listen-addr6=ADDR      Specify address to bind socket for IPv6 DHT. \n",
            "                              It should be a global unicast IPv6 address of the\n",
            "                              host.\n",
            "\n",
            "                              Tags: #basic, #bittorrent\n",
            "\n",
            " -M, --metalink-file=METALINK_FILE The file path to the .meta4 and .metalink\n",
            "                              file. Reads input from stdin when '-' is\n",
            "                              specified.\n",
            "\n",
            "                              Possible Values: /path/to/file, -\n",
            "                              Tags: #basic, #metalink\n",
            "\n",
            "URI, MAGNET, TORRENT_FILE, METALINK_FILE:\n",
            " You can specify multiple HTTP(S)/FTP URIs. Unless you specify -Z option, all\n",
            " URIs must point to the same file or downloading will fail.\n",
            " You can also specify arbitrary number of BitTorrent Magnet URIs, torrent/\n",
            " metalink files stored in a local drive. Please note that they are always\n",
            " treated as a separate download.\n",
            "\n",
            " You can specify both torrent file with -T option and URIs. By doing this,\n",
            " download a file from both torrent swarm and HTTP/FTP server at the same time,\n",
            " while the data from HTTP/FTP are uploaded to the torrent swarm. For single file\n",
            " torrents, URI can be a complete URI pointing to the resource or if URI ends\n",
            " with '/', 'name' in torrent file is added. For multi-file torrents, 'name' and\n",
            " 'path' in torrent are added to form a URI for each file.\n",
            "\n",
            " Make sure that URI is quoted with single(') or double(\") quotation if it\n",
            " contains \"&\" or any characters that have special meaning in shell.\n",
            "\n",
            "About the number of connections\n",
            " Since 1.10.0 release, aria2 uses 1 connection per host by default and has 20MiB\n",
            " segment size restriction. So whatever value you specify using -s option, it\n",
            " uses 1 connection per host. To make it behave like 1.9.x, use\n",
            " --max-connection-per-server=4 --min-split-size=1M.\n",
            "\n",
            "Refer to man page for more information.\n"
          ],
          "name": "stdout"
        }
      ]
    },
    {
      "cell_type": "markdown",
      "metadata": {
        "id": "JHcQIsQbR2i5",
        "colab_type": "text"
      },
      "source": [
        ""
      ]
    },
    {
      "cell_type": "markdown",
      "metadata": {
        "id": "bCWFmaTdOIvR",
        "colab_type": "text"
      },
      "source": [
        "# 3- Download torrent"
      ]
    },
    {
      "cell_type": "markdown",
      "metadata": {
        "id": "NqJ4AKztOk1q",
        "colab_type": "text"
      },
      "source": [
        "**3.1- Change Directory to your save-path**"
      ]
    },
    {
      "cell_type": "code",
      "metadata": {
        "id": "IyKWOSVKOJnj",
        "colab_type": "code",
        "colab": {
          "base_uri": "https://localhost:8080/",
          "height": 34
        },
        "outputId": "f92cd4c9-3fe0-4f69-a09f-4403b056222f"
      },
      "source": [
        "# for Simple Drive\n",
        "%cd '/content/drive/My Drive' \n",
        "\n",
        "# for Team Drive if existe\n",
        "# %cd '/content/drive/Shared drives/your_team_drive/' "
      ],
      "execution_count": 10,
      "outputs": [
        {
          "output_type": "stream",
          "text": [
            "/content/drive/My Drive\n"
          ],
          "name": "stdout"
        }
      ]
    },
    {
      "cell_type": "markdown",
      "metadata": {
        "id": "NbXyYvBGO8xp",
        "colab_type": "text"
      },
      "source": [
        "**3.2- Download torrent**"
      ]
    },
    {
      "cell_type": "code",
      "metadata": {
        "id": "bbXDrkz8PbtZ",
        "colab_type": "code",
        "colab": {
          "base_uri": "https://localhost:8080/",
          "height": 706
        },
        "outputId": "5371c823-c799-42f8-8802-398063a8562e"
      },
      "source": [
        "#--seed-time=0 if no seed\n",
        "!aria2c --seed-time=0 -Z 'https://nyaa.si/download/1250160.torrent'"
      ],
      "execution_count": 5,
      "outputs": [
        {
          "output_type": "stream",
          "text": [
            "\n",
            "06/02 13:42:32 [\u001b[1;32mNOTICE\u001b[0m] Downloading 1 item(s)\n",
            "\r\r\u001b[0m\n",
            "06/02 13:42:33 [\u001b[1;32mNOTICE\u001b[0m] Download complete: /content/[Ohys-Raws] Tenki no Ko (BD 1280x720 x264 AAC).mp4.torrent\n",
            "\n",
            "06/02 13:42:33 [\u001b[1;31mERROR\u001b[0m] Exception caught while loading DHT routing table from /root/.cache/aria2/dht.dat\n",
            "Exception: [DHTRoutingTableDeserializer.cc:83] errorCode=1 Failed to load DHT routing table from /root/.cache/aria2/dht.dat\n",
            "\n",
            "06/02 13:42:33 [\u001b[1;32mNOTICE\u001b[0m] IPv4 DHT: listening on UDP port 6908\n",
            "\n",
            "06/02 13:42:33 [\u001b[1;32mNOTICE\u001b[0m] IPv4 BitTorrent: listening on TCP port 6901\n",
            "\n",
            "06/02 13:42:33 [\u001b[1;31mERROR\u001b[0m] IPv6 BitTorrent: failed to bind TCP port 6901\n",
            "Exception: [SocketCore.cc:312] errorCode=1 Failed to bind a socket, cause: Name or service not known\n",
            " *** Download Progress Summary as of Tue Jun  2 13:43:33 2020 *** \n",
            "=\n",
            "[#653722 166MiB/2.0GiB(8%) CN:44 SD:25 DL:6.3MiB UL:0B(108KiB) ETA:5m2s]\n",
            "FILE: /content/[Ohys-Raws] Tenki no Ko (BD 1280x720 x264 AAC).mp4\n",
            "-\n",
            "\n",
            " *** Download Progress Summary as of Tue Jun  2 13:44:33 2020 *** \n",
            "=\n",
            "[#653722 2.0GiB/2.0GiB(99%) CN:44 SD:31 DL:46MiB UL:7.5KiB(204KiB)]\n",
            "FILE: /content/[Ohys-Raws] Tenki no Ko (BD 1280x720 x264 AAC).mp4\n",
            "-\n",
            "\n",
            "\u001b[0m\n",
            "06/02 13:44:33 [\u001b[1;32mNOTICE\u001b[0m] Seeding is over.\n",
            "\u001b[0m\n",
            "06/02 13:44:35 [\u001b[1;32mNOTICE\u001b[0m] Download complete: /content/[Ohys-Raws] Tenki no Ko (BD 1280x720 x264 AAC).mp4\n",
            "\n",
            "06/02 13:44:35 [\u001b[1;32mNOTICE\u001b[0m] Your share ratio was 0.0, uploaded/downloaded=204KiB/2.0GiB\n",
            "\u001b[0m\n",
            "Download Results:\n",
            "gid   |stat|avg speed  |path/URI\n",
            "======+====+===========+=======================================================\n",
            "f1ab08|\u001b[1;32mOK\u001b[0m  |   572KiB/s|/content/[Ohys-Raws] Tenki no Ko (BD 1280x720 x264 AAC).mp4.torrent\n",
            "653722|\u001b[1;32mOK\u001b[0m  |    17MiB/s|/content/[Ohys-Raws] Tenki no Ko (BD 1280x720 x264 AAC).mp4\n",
            "\n",
            "Status Legend:\n",
            "(OK):download completed.\n"
          ],
          "name": "stdout"
        }
      ]
    }
  ]
}